{
 "cells": [
  {
   "cell_type": "code",
   "execution_count": 3,
   "metadata": {
    "collapsed": true
   },
   "outputs": [],
   "source": [
    "from Experiment import Experiment"
   ]
  },
  {
   "cell_type": "markdown",
   "source": [
    "## 1. Generate or Load Trajectory Data"
   ],
   "metadata": {
    "collapsed": false
   }
  },
  {
   "cell_type": "code",
   "execution_count": 5,
   "outputs": [
    {
     "name": "stdout",
     "output_type": "stream",
     "text": [
      "Successfully initialised metadata.\n",
      "Successfully initialised datafiles.\n",
      "No metadynamics bias files supplied; assuming an unbiased trajectory.\n",
      "Successfully featurized trajectory with 2 features.\n"
     ]
    }
   ],
   "source": [
    "alanine_1us = Experiment(location='../exp/outputs/alanine_dipeptide/alanine_1us', features='dihedrals')"
   ],
   "metadata": {
    "collapsed": false
   }
  },
  {
   "cell_type": "code",
   "execution_count": 7,
   "outputs": [
    {
     "data": {
      "text/plain": "['PHI 0 ALA 2', 'PSI 0 ALA 2']"
     },
     "execution_count": 7,
     "metadata": {},
     "output_type": "execute_result"
    }
   ],
   "source": [
    "alanine_1us.get_features()"
   ],
   "metadata": {
    "collapsed": false
   }
  },
  {
   "cell_type": "code",
   "execution_count": null,
   "outputs": [],
   "source": [
    "alanine_1us.free_energy_plot(features=alanine_1us.get_features(), feature_nicknames=['\\phi', '\\psi'])"
   ],
   "metadata": {
    "collapsed": false
   }
  },
  {
   "cell_type": "markdown",
   "source": [
    "## 2. Learn Collective Variables\n",
    "\n",
    "NB: learn for a variety of data subsampling\n",
    "NB: Target Measure DM vs Ordinary DM\n",
    "NB: Use DeepTime software\n",
    "NB: PCA, tICA, DM, VAMPnet, Kernel Methods"
   ],
   "metadata": {
    "collapsed": false
   }
  },
  {
   "cell_type": "code",
   "execution_count": null,
   "outputs": [],
   "source": [],
   "metadata": {
    "collapsed": false
   }
  },
  {
   "cell_type": "markdown",
   "source": [
    "## 3. Set up Metadynamics Experiments\n",
    "NB: both vanilla MD and latest evolution of MD\n",
    "NB: ways of systematically relating features and CVs to a MD mapping\n",
    "NB: way of connecting VAMPnet into PLUMED\n",
    "NB: way of connected an autoencoder architecture into PLUMED"
   ],
   "metadata": {
    "collapsed": false
   }
  },
  {
   "cell_type": "code",
   "execution_count": null,
   "outputs": [],
   "source": [],
   "metadata": {
    "collapsed": false
   }
  },
  {
   "cell_type": "markdown",
   "source": [
    "## 4. Generate or Load Enhanced Sampling Data\n",
    "NB: using the PLUMED framework"
   ],
   "metadata": {
    "collapsed": false
   }
  },
  {
   "cell_type": "code",
   "execution_count": null,
   "outputs": [],
   "source": [],
   "metadata": {
    "collapsed": false
   }
  },
  {
   "cell_type": "markdown",
   "source": [
    "## 5. Compute Convergence Rates to the FES and Reaction Rate"
   ],
   "metadata": {
    "collapsed": false
   }
  },
  {
   "cell_type": "code",
   "execution_count": null,
   "outputs": [],
   "source": [],
   "metadata": {
    "collapsed": false
   }
  }
 ],
 "metadata": {
  "kernelspec": {
   "display_name": "Python 3",
   "language": "python",
   "name": "python3"
  },
  "language_info": {
   "codemirror_mode": {
    "name": "ipython",
    "version": 2
   },
   "file_extension": ".py",
   "mimetype": "text/x-python",
   "name": "python",
   "nbconvert_exporter": "python",
   "pygments_lexer": "ipython2",
   "version": "2.7.6"
  }
 },
 "nbformat": 4,
 "nbformat_minor": 0
}
